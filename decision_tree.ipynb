{
 "cells": [
  {
   "cell_type": "markdown",
   "metadata": {},
   "source": [
    "Gonna try some regression modeling\n",
    "\n",
    "Start with decision trees and try different things"
   ]
  },
  {
   "cell_type": "code",
   "execution_count": 1,
   "metadata": {
    "pycharm": {
     "is_executing": false
    }
   },
   "outputs": [],
   "source": [
    "import pandas as pd\n",
    "import matplotlib.pyplot as plt\n",
    "import numpy as np\n",
    "from sklearn.tree import DecisionTreeRegressor\n",
    "from sklearn.model_selection import train_test_split\n",
    "from sklearn.naive_bayes import GaussianNB # for classifying\n",
    "from sklearn.metrics import accuracy_score\n",
    "from sklearn.ensemble import RandomForestRegressor\n",
    "from sklearn.model_selection import cross_val_score\n",
    "from sklearn.metrics import mean_squared_error\n",
    "from scipy.stats import norm\n",
    "# more of where I want to be"
   ]
  },
  {
   "cell_type": "code",
   "execution_count": 2,
   "metadata": {
    "pycharm": {
     "is_executing": false
    }
   },
   "outputs": [],
   "source": [
    "# https://www.kaggle.com/c/elo-merchant-category-recommendation/data\n",
    "data_direc = 'elo-merchant-category-recommendation/'\n",
    "train_core = pd.read_csv(data_direc+'train.csv')\n",
    "merchants_data = pd.read_csv(data_direc+'merchants.csv')\n",
    "histor_trans = pd.read_csv(data_direc+'historical_transactions.csv')\n",
    "new_merc = pd.read_csv(data_direc+'new_merchant_transactions.csv')\n",
    "test_core = pd.read_csv(data_direc+'test.csv')"
   ]
  },
  {
   "cell_type": "code",
   "execution_count": 39,
   "metadata": {
    "pycharm": {
     "is_executing": false
    }
   },
   "outputs": [],
   "source": [
    "# So, process here should be to make the tree on the simplest set of data, and then add in features\n",
    "# and see how training changes\n",
    "# lets try some different depths, I think this is the only hyper parameter\n",
    "\n",
    "#print(train_core[['feature_1','feature_2']].values)\n",
    "\n",
    "# simple \n",
    "small_train_1 = train_core[['feature_1']].values\n",
    "small_train_2 = train_core[['feature_1','feature_2']].values\n",
    "small_train_3 = train_core[['feature_1','feature_2','feature_3']].values\n",
    "y = train_core['target'].values\n",
    "\n",
    "X_train_1, X_val_1, y_train, y_val = train_test_split(small_train_3,y,\n",
    "                                                      random_state=1,test_size=0.25)"
   ]
  },
  {
   "cell_type": "code",
   "execution_count": 40,
   "metadata": {
    "pycharm": {
     "is_executing": false
    }
   },
   "outputs": [
    {
     "data": {
      "text/plain": [
       "DecisionTreeRegressor(criterion='mse', max_depth=5, max_features=None,\n",
       "                      max_leaf_nodes=None, min_impurity_decrease=0.0,\n",
       "                      min_impurity_split=None, min_samples_leaf=1,\n",
       "                      min_samples_split=2, min_weight_fraction_leaf=0.0,\n",
       "                      presort=False, random_state=None, splitter='best')"
      ]
     },
     "execution_count": 40,
     "metadata": {},
     "output_type": "execute_result"
    }
   ],
   "source": [
    "simple_tree2 = DecisionTreeRegressor(max_depth=2)\n",
    "simple_tree3 = DecisionTreeRegressor(max_depth=3)\n",
    "simple_tree4 = DecisionTreeRegressor(max_depth=5)\n",
    "\n",
    "simple_tree2.fit(X_train_1,y_train)\n",
    "simple_tree3.fit(X_train_1,y_train)\n",
    "simple_tree4.fit(X_train_1,y_train)"
   ]
  },
  {
   "cell_type": "code",
   "execution_count": 41,
   "metadata": {
    "pycharm": {
     "is_executing": false
    }
   },
   "outputs": [
    {
     "name": "stdout",
     "output_type": "stream",
     "text": [
      "0.0006211134367108961\n",
      "0.0007164805548559583\n",
      "0.0006915538079952377\n"
     ]
    }
   ],
   "source": [
    "score2 = simple_tree2.score(X_val_1,y_val)\n",
    "score3 = simple_tree3.score(X_val_1,y_val)\n",
    "score4 = simple_tree4.score(X_val_1,y_val)\n",
    "\n",
    "print(score2)\n",
    "print(score3)\n",
    "print(score4)"
   ]
  },
  {
   "cell_type": "code",
   "execution_count": 36,
   "metadata": {
    "collapsed": false,
    "jupyter": {
     "outputs_hidden": false
    },
    "pycharm": {
     "is_executing": false,
     "name": "#%%\n"
    }
   },
   "outputs": [
    {
     "data": {
      "text/html": [
       "<div>\n",
       "<style scoped>\n",
       "    .dataframe tbody tr th:only-of-type {\n",
       "        vertical-align: middle;\n",
       "    }\n",
       "\n",
       "    .dataframe tbody tr th {\n",
       "        vertical-align: top;\n",
       "    }\n",
       "\n",
       "    .dataframe thead th {\n",
       "        text-align: right;\n",
       "    }\n",
       "</style>\n",
       "<table border=\"1\" class=\"dataframe\">\n",
       "  <thead>\n",
       "    <tr style=\"text-align: right;\">\n",
       "      <th></th>\n",
       "      <th>card_id</th>\n",
       "      <th>first_active_month</th>\n",
       "      <th>feature_1</th>\n",
       "      <th>feature_2</th>\n",
       "      <th>feature_3</th>\n",
       "    </tr>\n",
       "  </thead>\n",
       "  <tbody>\n",
       "    <tr>\n",
       "      <th>0</th>\n",
       "      <td>C_ID_92a2005557</td>\n",
       "      <td>2017-06</td>\n",
       "      <td>5</td>\n",
       "      <td>2</td>\n",
       "      <td>1</td>\n",
       "    </tr>\n",
       "    <tr>\n",
       "      <th>1</th>\n",
       "      <td>C_ID_3d0044924f</td>\n",
       "      <td>2017-01</td>\n",
       "      <td>4</td>\n",
       "      <td>1</td>\n",
       "      <td>0</td>\n",
       "    </tr>\n",
       "    <tr>\n",
       "      <th>2</th>\n",
       "      <td>C_ID_d639edf6cd</td>\n",
       "      <td>2016-08</td>\n",
       "      <td>2</td>\n",
       "      <td>2</td>\n",
       "      <td>0</td>\n",
       "    </tr>\n",
       "    <tr>\n",
       "      <th>3</th>\n",
       "      <td>C_ID_186d6a6901</td>\n",
       "      <td>2017-09</td>\n",
       "      <td>4</td>\n",
       "      <td>3</td>\n",
       "      <td>0</td>\n",
       "    </tr>\n",
       "    <tr>\n",
       "      <th>4</th>\n",
       "      <td>C_ID_cdbd2c0db2</td>\n",
       "      <td>2017-11</td>\n",
       "      <td>1</td>\n",
       "      <td>3</td>\n",
       "      <td>0</td>\n",
       "    </tr>\n",
       "  </tbody>\n",
       "</table>\n",
       "</div>"
      ],
      "text/plain": [
       "           card_id first_active_month  feature_1  feature_2  feature_3\n",
       "0  C_ID_92a2005557            2017-06          5          2          1\n",
       "1  C_ID_3d0044924f            2017-01          4          1          0\n",
       "2  C_ID_d639edf6cd            2016-08          2          2          0\n",
       "3  C_ID_186d6a6901            2017-09          4          3          0\n",
       "4  C_ID_cdbd2c0db2            2017-11          1          3          0"
      ]
     },
     "execution_count": 36,
     "metadata": {},
     "output_type": "execute_result"
    }
   ],
   "source": [
    "# I should start adding columns ot the training set bit by bit\n",
    "# total number of transactions made, average amount spent per transaction, total amount spent\n",
    "# min and max spent might also be good numbers\n",
    "\n",
    "# just placed the modified data lower so I don't have to remake it each time\n",
    "\n",
    "#modified_train_data = train_core[['card_id','first_active_month','feature_1','feature_2','feature_3']]\n",
    "#modified_train_data['total_num_transactions'] = 0\n",
    "#modified_train_data['total_spent'] = 0\n",
    "#modified_train_data['avg_spent_per_transaction'] = 0\n",
    "#modified_train_data.head()"
   ]
  },
  {
   "cell_type": "code",
   "execution_count": 32,
   "metadata": {
    "collapsed": false,
    "jupyter": {
     "outputs_hidden": false
    },
    "pycharm": {
     "is_executing": false,
     "name": "#%%\n"
    }
   },
   "outputs": [
    {
     "name": "stdout",
     "output_type": "stream",
     "text": [
      "training data shape =  (201917, 6)\n",
      "testing data shape =  (123623, 5)\n"
     ]
    }
   ],
   "source": [
    "# this is a testing cell to become familiar with groupby and agg methods\n",
    "# still need to look at what agg does\n",
    "\n",
    "num_trans = 0\n",
    "tot_spent = 0\n",
    "\n",
    "print('training data shape = ',train_core.shape)\n",
    "print('testing data shape = ',test_core.shape)\n",
    "\n",
    "#histor_trans.groupby(['card_id']).mean()['purchase_amount'].head()\n",
    "# histor_trans.groupby(['card_id']).mean().head()\n",
    "\n",
    "#print(histor_trans.groupby(['card_id']).mean()['purchase_amount'])\n",
    "#print(histor_trans.groupby(['card_id']).sum()['purchase_amount'])\n",
    "\n",
    "#print(modified_train_data['card_id'])\n",
    "\n",
    "\n"
   ]
  },
  {
   "cell_type": "code",
   "execution_count": 3,
   "metadata": {
    "collapsed": false,
    "jupyter": {
     "outputs_hidden": false
    },
    "pycharm": {
     "is_executing": false,
     "name": "#%%\n"
    }
   },
   "outputs": [
    {
     "data": {
      "text/plain": "           card_id first_active_month  feature_1  feature_2  feature_3  \\\n0  C_ID_92a2005557            2017-06          5          2          1   \n1  C_ID_3d0044924f            2017-01          4          1          0   \n2  C_ID_d639edf6cd            2016-08          2          2          0   \n3  C_ID_186d6a6901            2017-09          4          3          0   \n4  C_ID_cdbd2c0db2            2017-11          1          3          0   \n\n     target  avg_purchase_amount  total_purchase_amount  \n0 -0.820283            -0.638341            -165.968739  \n1  0.392913            -0.600018            -210.006336  \n2  0.688056            -0.678311             -29.167391  \n3  0.142495            -0.642745             -49.491364  \n4 -0.159749            -0.366073             -48.687656  ",
      "text/html": "<div>\n<style scoped>\n    .dataframe tbody tr th:only-of-type {\n        vertical-align: middle;\n    }\n\n    .dataframe tbody tr th {\n        vertical-align: top;\n    }\n\n    .dataframe thead th {\n        text-align: right;\n    }\n</style>\n<table border=\"1\" class=\"dataframe\">\n  <thead>\n    <tr style=\"text-align: right;\">\n      <th></th>\n      <th>card_id</th>\n      <th>first_active_month</th>\n      <th>feature_1</th>\n      <th>feature_2</th>\n      <th>feature_3</th>\n      <th>target</th>\n      <th>avg_purchase_amount</th>\n      <th>total_purchase_amount</th>\n    </tr>\n  </thead>\n  <tbody>\n    <tr>\n      <th>0</th>\n      <td>C_ID_92a2005557</td>\n      <td>2017-06</td>\n      <td>5</td>\n      <td>2</td>\n      <td>1</td>\n      <td>-0.820283</td>\n      <td>-0.638341</td>\n      <td>-165.968739</td>\n    </tr>\n    <tr>\n      <th>1</th>\n      <td>C_ID_3d0044924f</td>\n      <td>2017-01</td>\n      <td>4</td>\n      <td>1</td>\n      <td>0</td>\n      <td>0.392913</td>\n      <td>-0.600018</td>\n      <td>-210.006336</td>\n    </tr>\n    <tr>\n      <th>2</th>\n      <td>C_ID_d639edf6cd</td>\n      <td>2016-08</td>\n      <td>2</td>\n      <td>2</td>\n      <td>0</td>\n      <td>0.688056</td>\n      <td>-0.678311</td>\n      <td>-29.167391</td>\n    </tr>\n    <tr>\n      <th>3</th>\n      <td>C_ID_186d6a6901</td>\n      <td>2017-09</td>\n      <td>4</td>\n      <td>3</td>\n      <td>0</td>\n      <td>0.142495</td>\n      <td>-0.642745</td>\n      <td>-49.491364</td>\n    </tr>\n    <tr>\n      <th>4</th>\n      <td>C_ID_cdbd2c0db2</td>\n      <td>2017-11</td>\n      <td>1</td>\n      <td>3</td>\n      <td>0</td>\n      <td>-0.159749</td>\n      <td>-0.366073</td>\n      <td>-48.687656</td>\n    </tr>\n  </tbody>\n</table>\n</div>"
     },
     "metadata": {},
     "output_type": "execute_result",
     "execution_count": 3
    }
   ],
   "source": [
    "# a multi index frame might also be helpful\n",
    "modified_train_data = train_core[['card_id','first_active_month','feature_1','feature_2','feature_3','target']]\n",
    "# modified_train_data['total_num_transactions'] = histor_trans.groupby()\n",
    "modified_train_data = pd.merge(left=modified_train_data,\n",
    "                               right=histor_trans.groupby(['card_id']).mean()['purchase_amount'],\n",
    "                               how='inner',on='card_id')\n",
    "modified_train_data = modified_train_data.rename(columns={'purchase_amount':'avg_purchase_amount'})\n",
    "\n",
    "modified_train_data = pd.merge(left=modified_train_data,\n",
    "                               right=histor_trans.groupby(['card_id']).sum()['purchase_amount'],\n",
    "                               how='inner',on='card_id')\n",
    "modified_train_data = modified_train_data.rename(columns={'purchase_amount':'total_purchase_amount'})\n",
    "\n",
    "# modified_train_data = modified_train_data.drop()\n",
    "\n",
    "modified_train_data.head()"
   ]
  },
  {
   "cell_type": "code",
   "execution_count": 4,
   "metadata": {
    "collapsed": false,
    "jupyter": {
     "outputs_hidden": false
    },
    "pycharm": {
     "is_executing": false,
     "name": "#%%\n"
    }
   },
   "outputs": [
    {
     "name": "stdout",
     "text": [
      "[ 0.08254619 -0.09918572 -0.37769637 ... -0.67639611 -0.32187134\n -0.44488068]\n[ 0.30070305  0.86059694 -0.20388935 ...  0.07368348  0.95833898\n  1.06200375]\n[-0.32187134 -0.33527086 -1.50979404 ... -0.11530731 -0.12661377\n -0.44488068]\n[-1.22869149  0.40463941 -5.184915   ...  1.75391175 -0.02217745\n  0.65220953]\n"
     ],
     "output_type": "stream"
    },
    {
     "data": {
      "text/plain": "<Figure size 432x288 with 1 Axes>",
      "image/png": "[encoded data removed]"
     },
     "metadata": {
      "needs_background": "light"
     },
     "output_type": "display_data"
    }
   ],
   "source": [
    "# split data here\n",
    "y = modified_train_data['target'].values\n",
    "modded_vals_nums = modified_train_data.drop('card_id',axis=1)\n",
    "modded_vals_nums = modded_vals_nums.drop('target',axis=1)\n",
    "modded_vals_nums = modded_vals_nums.drop('first_active_month',axis=1).values\n",
    "X_train, X_val, y_train, y_val = train_test_split(modded_vals_nums,y,\n",
    "                                                      random_state=4,test_size=0.40)\n",
    "\n",
    "\n",
    "num_sim_trees = 15\n",
    "sim_tree_arr = [DecisionTreeRegressor(max_depth=i) for i in range(1,num_sim_trees)]\n",
    "for i in range(0,num_sim_trees-1):\n",
    "    sim_tree_arr[i].fit(X_train,y_train)\n",
    "\n",
    "\n",
    "predictions_sim_tree = np.array([sim_tree_arr[i].predict(X_val) for i in range(0,num_sim_trees-1)])\n",
    "predictions_sim_tree_train = np.array([sim_tree_arr[i].predict(X_train) for i in range(0,num_sim_trees-1)])\n",
    "\n",
    "print(predictions_sim_tree[10])\n",
    "print(y_val)\n",
    "\n",
    "print(predictions_sim_tree_train[10])\n",
    "print(y_train)\n",
    "\n",
    "rmse_sim_tree = np.sqrt([mean_squared_error(predictions_sim_tree[i],y_val) for i in range(0,num_sim_trees-1)])\n",
    "rmse_sim_tree_train = np.sqrt([mean_squared_error(predictions_sim_tree_train[i],\n",
    "                                                  y_train) for i in range(0,num_sim_trees-1)])\n",
    "\n",
    "num_tree_depth = np.linspace(1,num_sim_trees-1,num=num_sim_trees-1)\n",
    "plt.plot(num_tree_depth,rmse_sim_tree)\n",
    "plt.plot(num_tree_depth,rmse_sim_tree_train)\n",
    "plt.title('root mean squared error vs tree depth')\n",
    "plt.show()"
   ]
  },
  {
   "cell_type": "code",
   "execution_count": 7,
   "metadata": {
    "collapsed": false,
    "jupyter": {
     "outputs_hidden": false
    },
    "pycharm": {
     "name": "#%%\n",
     "is_executing": false
    }
   },
   "outputs": [
    {
     "data": {
      "text/plain": "<Figure size 432x288 with 1 Axes>",
      "image/png": "[encoded data removed]"
     },
     "metadata": {
      "needs_background": "light"
     },
     "output_type": "display_data"
    },
    {
     "name": "stdout",
     "text": [
      "3.8889273028541385\n"
     ],
     "output_type": "stream"
    }
   ],
   "source": [
    "# lets fit a gaussian, pull a set of random numbers, and then calculate rmse\n",
    "# well, fit a gaussian to the training target, and then pull, worth a shot\n",
    "mu, std = norm.fit(y_train)\n",
    "#print(mu,std)\n",
    "gauss_predict = np.random.normal(loc=mu,scale=std,size=y_val.__len__())\n",
    "gauss_predict = np.random.normal(loc=0,scale=0.5,size=y_val.__len__())\n",
    "plt.hist(y_val,range=(-10,10),bins=51)\n",
    "plt.hist(gauss_predict,range=(-10,10),bins=51)\n",
    "plt.show()\n",
    "gauss_rmse = np.sqrt(mean_squared_error(gauss_predict,y_val))\n",
    "print(gauss_rmse)"
   ]
  },
  {
   "cell_type": "code",
   "execution_count": null,
   "metadata": {
    "collapsed": false,
    "jupyter": {
     "outputs_hidden": false
    },
    "pycharm": {
     "name": "#%%\n"
    }
   },
   "outputs": [],
   "source": [
    "print('stuff')\n",
    "\n",
    "#for iden in modified_train_data['card_id']:\n",
    "    #print(iden)\n",
    "checker = modified_train_data['card_id'][0]\n",
    "checker = train_core['card_id'][100]\n",
    "#print(checker)\n",
    "print(modified_train_data['card_id'].str.find(checker).values)\n",
    "#data_testing['purcha'] = \n"
   ]
  }
 ],
 "metadata": {
  "kernelspec": {
   "display_name": "Python 3",
   "language": "python",
   "name": "python3"
  },
  "language_info": {
   "codemirror_mode": {
    "name": "ipython",
    "version": 3
   },
   "file_extension": ".py",
   "mimetype": "text/x-python",
   "name": "python",
   "nbconvert_exporter": "python",
   "pygments_lexer": "ipython3",
   "version": "3.7.4"
  },
  "pycharm": {
   "stem_cell": {
    "cell_type": "raw",
    "source": [],
    "metadata": {
     "collapsed": false
    }
   }
  }
 },
 "nbformat": 4,
 "nbformat_minor": 4
}